{
 "cells": [
  {
   "cell_type": "code",
   "execution_count": 1,
   "id": "358028f3",
   "metadata": {},
   "outputs": [],
   "source": [
    "from IPython.display import IFrame"
   ]
  },
  {
   "cell_type": "code",
   "execution_count": 2,
   "id": "89ffcd02",
   "metadata": {},
   "outputs": [
    {
     "data": {
      "text/html": [
       "\n",
       "        <iframe\n",
       "            width=\"900\"\n",
       "            height=\"500\"\n",
       "            src=\"https://app.powerbi.com/view?r=eyJrIjoiNGJjNjYxYTYtZWI2ZC00YjM3LWE3NDQtMmMyYzhmZmJkNzAyIiwidCI6ImUzYjE5YzBlLWE2YWMtNGZjYS04YmFhLWY0MjcxY2NmNjI0ZCIsImMiOjF9\"\n",
       "            frameborder=\"0\"\n",
       "            allowfullscreen\n",
       "            \n",
       "        ></iframe>\n",
       "        "
      ],
      "text/plain": [
       "<IPython.lib.display.IFrame at 0x1ee1c808370>"
      ]
     },
     "execution_count": 2,
     "metadata": {},
     "output_type": "execute_result"
    }
   ],
   "source": [
    "src = 'https://app.powerbi.com/view?r=eyJrIjoiNGJjNjYxYTYtZWI2ZC00YjM3LWE3NDQtMmMyYzhmZmJkNzAyIiwidCI6ImUzYjE5YzBlLWE2YWMtNGZjYS04YmFhLWY0MjcxY2NmNjI0ZCIsImMiOjF9'\n",
    "IFrame(src, width=900, height=500)"
   ]
  },
  {
   "cell_type": "code",
   "execution_count": 3,
   "id": "c4be13b6",
   "metadata": {},
   "outputs": [
    {
     "data": {
      "text/html": [
       "\n",
       "        <iframe\n",
       "            width=\"900\"\n",
       "            height=\"500\"\n",
       "            src=\"https://docs.google.com/spreadsheets/d/1OMY7TK-VrVtt1DOuKy_W-1XOv6vayYXt/edit?rtpof=true&sd=true#gid=634812040\"\n",
       "            frameborder=\"0\"\n",
       "            allowfullscreen\n",
       "            \n",
       "        ></iframe>\n",
       "        "
      ],
      "text/plain": [
       "<IPython.lib.display.IFrame at 0x1ee1c879fa0>"
      ]
     },
     "execution_count": 3,
     "metadata": {},
     "output_type": "execute_result"
    }
   ],
   "source": [
    "src_xl = 'https://docs.google.com/spreadsheets/d/1OMY7TK-VrVtt1DOuKy_W-1XOv6vayYXt/edit?rtpof=true&sd=true#gid=634812040'\n",
    "IFrame(src_xl, width=900, height=500)"
   ]
  }
 ],
 "metadata": {
  "kernelspec": {
   "display_name": "ML",
   "language": "python",
   "name": "ml"
  },
  "language_info": {
   "codemirror_mode": {
    "name": "ipython",
    "version": 3
   },
   "file_extension": ".py",
   "mimetype": "text/x-python",
   "name": "python",
   "nbconvert_exporter": "python",
   "pygments_lexer": "ipython3",
   "version": "3.9.18"
  },
  "varInspector": {
   "cols": {
    "lenName": 16,
    "lenType": 16,
    "lenVar": 40
   },
   "kernels_config": {
    "python": {
     "delete_cmd_postfix": "",
     "delete_cmd_prefix": "del ",
     "library": "var_list.py",
     "varRefreshCmd": "print(var_dic_list())"
    },
    "r": {
     "delete_cmd_postfix": ") ",
     "delete_cmd_prefix": "rm(",
     "library": "var_list.r",
     "varRefreshCmd": "cat(var_dic_list()) "
    }
   },
   "types_to_exclude": [
    "module",
    "function",
    "builtin_function_or_method",
    "instance",
    "_Feature"
   ],
   "window_display": false
  }
 },
 "nbformat": 4,
 "nbformat_minor": 5
}
